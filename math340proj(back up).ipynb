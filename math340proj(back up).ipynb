{
  "nbformat": 4,
  "nbformat_minor": 0,
  "metadata": {
    "colab": {
      "provenance": [],
      "include_colab_link": true
    },
    "kernelspec": {
      "name": "python3",
      "display_name": "Python 3"
    },
    "language_info": {
      "name": "python"
    }
  },
  "cells": [
    {
      "cell_type": "markdown",
      "metadata": {
        "id": "view-in-github",
        "colab_type": "text"
      },
      "source": [
        "<a href=\"https://colab.research.google.com/github/UBCYujia/palmerpenguins/blob/master/math340proj(back%20up).ipynb\" target=\"_parent\"><img src=\"https://colab.research.google.com/assets/colab-badge.svg\" alt=\"Open In Colab\"/></a>"
      ]
    },
    {
      "cell_type": "markdown",
      "source": [
        "# ***MATH340 Project---UBC transportation optimization***"
      ],
      "metadata": {
        "id": "BWyPlzhzMb29"
      }
    },
    {
      "cell_type": "markdown",
      "source": [
        "Student 1 Name: Kaiwen Liu\\\n",
        "Student 1 ID:  78229960\\\n",
        "Student 2 Name: Yujia Ma \\\n",
        "Student 2 ID: 97540850\n"
      ],
      "metadata": {
        "id": "Ar1N1M2RMuz7"
      }
    },
    {
      "cell_type": "markdown",
      "source": [
        "**Introduction (Background & Aim)**\\\n",
        "UBC exchange bus loop is always crowded by students every weekday in rush hours(5-6 pm). However, for some bus lines, people have to wait in a 50-meter-long line for centuries, while for others, it’s not that crowded. That means the schedule of buses can be modified to relieve the transportation burden and thus reduce carbon emissions and waiting time.\n",
        "Our goal is to make the most of each bus in peak hours, which means we aim to make sure all students can be transported out of campus in one hour, and in the meanwhile, total carbon emission by all buses is minimum.\n"
      ],
      "metadata": {
        "id": "EQm7jQPZNVNQ"
      }
    },
    {
      "cell_type": "markdown",
      "source": [
        "# Simulated Data \n",
        "We simulated a simplified version of Vancouver bus routes based on real data.\n",
        "### bus size\n",
        "3 types of buses and their capacity: small(18) ,medium(25) ,large(40)\n",
        "\n",
        "### carbon emission\n",
        "Small medium and large size bus need approximately 20L, 30L and 45L gasoline to run 100km respectively. Each liter of gasoline generates 2.7kg carbon dioxide.As such we can get their carbon emission per km:\\\n",
        "**small**:  20L * 2.7kg/L / 100km = 0.54kg/km\\\n",
        "**medium**: 30L * 2.7kg/L / 100km = 0.81kg/km\\\n",
        "**large**:  45L * 2.7kg/L / 100km = 1.215kg/km"
      ],
      "metadata": {
        "id": "JxT9lhdWr0rW"
      }
    },
    {
      "cell_type": "markdown",
      "source": [],
      "metadata": {
        "id": "BMs2OG-kMxLT"
      }
    },
    {
      "cell_type": "code",
      "execution_count": null,
      "metadata": {
        "id": "aNl14D_W8q09"
      },
      "outputs": [],
      "source": [
        "p = [0,\n",
        " 391,\n",
        " 331,\n",
        " 316,\n",
        " 326,\n",
        " 322,\n",
        " 327,\n",
        " 380,\n",
        " 352,\n",
        " 348,\n",
        " 242,\n",
        " 171,\n",
        " 177,\n",
        " 245,\n",
        " 246,\n",
        " 250,\n",
        " 256,\n",
        " 250,\n",
        " 238,\n",
        " 211,\n",
        " 165,\n",
        " 265,\n",
        " 273,\n",
        " 229,\n",
        " 211,\n",
        " 209,\n",
        " 296,\n",
        " 212,\n",
        " 236,\n",
        " 268,\n",
        " 84,\n",
        " 141,\n",
        " 112,\n",
        " 117,\n",
        " 117,\n",
        " 76,\n",
        " 77,\n",
        " 95,\n",
        " 112,\n",
        " 133,\n",
        " 65,\n",
        " 114,\n",
        " 76,\n",
        " 50,\n",
        " 124,\n",
        " 118,\n",
        " 149,\n",
        " 106,\n",
        " 145,\n",
        " 89,\n",
        " 355,\n",
        " 306,\n",
        " 301]"
      ]
    },
    {
      "cell_type": "code",
      "source": [
        "totalp = 0\n",
        "for i in range(52):\n",
        "    totalp += p[i]\n",
        "totalp"
      ],
      "metadata": {
        "colab": {
          "base_uri": "https://localhost:8080/"
        },
        "id": "sXHRfIxp8_Q0",
        "outputId": "da8967f9-079b-4ed1-ed5a-c8237a129bdd"
      },
      "execution_count": null,
      "outputs": [
        {
          "output_type": "execute_result",
          "data": {
            "text/plain": [
              "10504"
            ]
          },
          "metadata": {},
          "execution_count": 442
        }
      ]
    },
    {
      "cell_type": "code",
      "source": [
        "edges = []\n",
        "edge = [0,2,3,4,5,6,7,8] #purple\n",
        "edges.append(edge)\n",
        "edge = [0,2,3,4,12,19,26,38,44,45] #red\n",
        "edges.append(edge)\n",
        "edge = [0,2,3,4,12,20,27,34,33,40,46] #blue\n",
        "edges.append(edge)\n",
        "edge = [0,3,9,23,22,21,27,33,39,44,45] #black\n",
        "edges.append(edge)\n",
        "edge = [0,2,9,13,23,30,29,28,34,41,46] #yellow\n",
        "edges.append(edge)\n",
        "edge = [0,10,24,31,35,42,47,48] #white\n",
        "edges.append(edge)\n",
        "edge = [0,10,14,24,31,43,50,52] #orange\n",
        "edges.append(edge)\n",
        "edge = [0,1,15,17,25,32,36,51,52] #light red\n",
        "edges.append(edge)\n",
        "edge = [0,1,8,11,16,18,32,37,49,51,52] #blue\n",
        "edges.append(edge)\n",
        "edges"
      ],
      "metadata": {
        "colab": {
          "base_uri": "https://localhost:8080/"
        },
        "id": "V5kFoViy84b7",
        "outputId": "56462dcd-543a-483a-ec60-e063f11259fa"
      },
      "execution_count": null,
      "outputs": [
        {
          "output_type": "execute_result",
          "data": {
            "text/plain": [
              "[[0, 2, 3, 4, 5, 6, 7, 8],\n",
              " [0, 2, 3, 4, 12, 19, 26, 38, 44, 45],\n",
              " [0, 2, 3, 4, 12, 20, 27, 34, 33, 40, 46],\n",
              " [0, 3, 9, 23, 22, 21, 27, 33, 39, 44, 45],\n",
              " [0, 2, 9, 13, 23, 30, 29, 28, 34, 41, 46],\n",
              " [0, 10, 24, 31, 35, 42, 47, 48],\n",
              " [0, 10, 14, 24, 31, 43, 50, 52],\n",
              " [0, 1, 15, 17, 25, 32, 36, 51, 52],\n",
              " [0, 1, 8, 11, 16, 18, 32, 37, 49, 51, 52]]"
            ]
          },
          "metadata": {},
          "execution_count": 443
        }
      ]
    },
    {
      "cell_type": "code",
      "source": [
        "sp = []\n",
        "vis = [0] * 60\n",
        "sp.append(totalp)\n",
        "for point in range(52):\n",
        "    nowpoint = point+1\n",
        "    nowsp = 0\n",
        "    for j in range(53):\n",
        "        vis[j] = 0\n",
        "    for j in range(9):\n",
        "        for k in range(len(edges[j])):\n",
        "            if (nowpoint == edges[j][k]):\n",
        "                for kk in range(k+1):\n",
        "                    vis[edges[j][kk]] = 1\n",
        "    for j in range(53):\n",
        "        if (vis[j]):\n",
        "            nowsp += p[j]\n",
        "    sp.append(nowsp)\n",
        "sp"
      ],
      "metadata": {
        "colab": {
          "base_uri": "https://localhost:8080/"
        },
        "id": "zIshIj8e88Dy",
        "outputId": "e7282ed6-c19a-420c-8954-b50f7cc95778"
      },
      "execution_count": null,
      "outputs": [
        {
          "output_type": "execute_result",
          "data": {
            "text/plain": [
              "[10504,\n",
              " 391,\n",
              " 331,\n",
              " 647,\n",
              " 973,\n",
              " 1295,\n",
              " 1622,\n",
              " 2002,\n",
              " 2745,\n",
              " 995,\n",
              " 242,\n",
              " 914,\n",
              " 1150,\n",
              " 924,\n",
              " 488,\n",
              " 641,\n",
              " 1170,\n",
              " 891,\n",
              " 1408,\n",
              " 1361,\n",
              " 1315,\n",
              " 1431,\n",
              " 1166,\n",
              " 1469,\n",
              " 699,\n",
              " 1100,\n",
              " 1657,\n",
              " 2642,\n",
              " 1741,\n",
              " 1505,\n",
              " 1237,\n",
              " 840,\n",
              " 2229,\n",
              " 2876,\n",
              " 3054,\n",
              " 670,\n",
              " 1289,\n",
              " 1615,\n",
              " 1769,\n",
              " 1893,\n",
              " 1826,\n",
              " 1972,\n",
              " 746,\n",
              " 890,\n",
              " 3470,\n",
              " 3588,\n",
              " 3499,\n",
              " 852,\n",
              " 997,\n",
              " 1704,\n",
              " 1245,\n",
              " 2796,\n",
              " 4342]"
            ]
          },
          "metadata": {},
          "execution_count": 444
        }
      ]
    },
    {
      "cell_type": "code",
      "source": [
        "# small:  20L * 2.7kg/L / 100km = 0.54kg/km\n",
        "# medium: 30L * 2.7kg/L / 100km = 0.81kg/km\n",
        "# large:  45L * 2.7kg/L / 100km = 1.215kg/km"
      ],
      "metadata": {
        "id": "zyK54QAQ_rDl"
      },
      "execution_count": null,
      "outputs": []
    },
    {
      "cell_type": "code",
      "source": [
        "# Bus={\"SMALL\",\"MEDIUM\",\"LARGE\"}\n",
        "# cost={\"SMALL\":0.54,\"MEDIUM\":0.81,\"LARGE\":1.215}\n",
        "# capacity={\"SMALL\":18,\"MEDIUM\":25,\"LARGE\":40}\n",
        "\n",
        "costs = [0.54*6,0.81*12,1.215*12.5,1.215*13,1.215*12.5,0.54*10,0.54*9.5,0.81*10,1.214*11]\n",
        "capacities = [18,25,40,40,40,18,18,25,40]"
      ],
      "metadata": {
        "id": "JgkG7FzgAp3f"
      },
      "execution_count": null,
      "outputs": []
    },
    {
      "cell_type": "code",
      "source": [
        "bus=[\"bus\"+str(i) for i in range(9)]"
      ],
      "metadata": {
        "id": "nkfRdl5CFpYA"
      },
      "execution_count": null,
      "outputs": []
    },
    {
      "cell_type": "code",
      "source": [
        "stop=[\"stop\"+str(i) for i in range(53)]"
      ],
      "metadata": {
        "id": "lWcQKETGFzYk"
      },
      "execution_count": null,
      "outputs": []
    },
    {
      "cell_type": "code",
      "source": [
        "# This is a comment\n",
        "# These two lines install the pulp package on the syzygy server (or on your machine)\n",
        "import sys\n",
        "!{sys.executable} -m pip install pulp "
      ],
      "metadata": {
        "colab": {
          "base_uri": "https://localhost:8080/"
        },
        "id": "XSSKrbz1LIk4",
        "outputId": "99d2eebf-258f-4671-df43-e3420d1a1c3d"
      },
      "execution_count": null,
      "outputs": [
        {
          "output_type": "stream",
          "name": "stdout",
          "text": [
            "Looking in indexes: https://pypi.org/simple, https://us-python.pkg.dev/colab-wheels/public/simple/\n",
            "Requirement already satisfied: pulp in /usr/local/lib/python3.7/dist-packages (2.7.0)\n"
          ]
        }
      ]
    },
    {
      "cell_type": "code",
      "source": [
        "import pulp\n",
        "from pulp import*"
      ],
      "metadata": {
        "id": "SpNGuc91KssW"
      },
      "execution_count": null,
      "outputs": []
    },
    {
      "cell_type": "code",
      "source": [
        "Lp_carbon = pulp.LpProblem(name=\"carbon\", sense=LpMinimize)"
      ],
      "metadata": {
        "id": "r6ZmM46GKtn-"
      },
      "execution_count": null,
      "outputs": []
    },
    {
      "cell_type": "code",
      "source": [
        "x = []\n",
        "for i in range(9):\n",
        "    x.append(pulp.LpVariable(name=bus[i], lowBound=0, cat = 'Integer'))"
      ],
      "metadata": {
        "id": "0gEcTj-fKwZr"
      },
      "execution_count": null,
      "outputs": []
    },
    {
      "cell_type": "code",
      "source": [
        "Lp_carbon += costs[0]*x[0] + costs[1]*x[1] + costs[2]*x[2] + costs[3]*x[3] + costs[4]*x[4] + costs[5]*x[5] + costs[6]*x[6] + costs[7]*x[7] + costs[8]*x[8]"
      ],
      "metadata": {
        "id": "oqYmYuTqKyK8"
      },
      "execution_count": null,
      "outputs": []
    },
    {
      "cell_type": "code",
      "source": [
        "for i in range(53):\n",
        "    ans = 0\n",
        "    for j in range(9):\n",
        "        for k in range(len(edges[j])):\n",
        "            if (edges[j][k] == i):\n",
        "                ans += capacities[j]*x[j]\n",
        "    Lp_carbon += (ans >= sp[i], stop[i])"
      ],
      "metadata": {
        "id": "74qVmQTWKz3Y"
      },
      "execution_count": null,
      "outputs": []
    },
    {
      "cell_type": "code",
      "source": [
        "status = Lp_carbon.solve()"
      ],
      "metadata": {
        "id": "wU0UX0jYK1xs"
      },
      "execution_count": null,
      "outputs": []
    },
    {
      "cell_type": "code",
      "source": [
        "\n",
        "print(Lp_carbon)"
      ],
      "metadata": {
        "colab": {
          "base_uri": "https://localhost:8080/"
        },
        "id": "Wziwt8mnR6OT",
        "outputId": "b8efad5b-954b-4d2d-f161-bd53ea8fb18d"
      },
      "execution_count": null,
      "outputs": [
        {
          "output_type": "stream",
          "name": "stdout",
          "text": [
            "carbon:\n",
            "MINIMIZE\n",
            "3.24*bus0 + 9.72*bus1 + 15.187500000000002*bus2 + 15.795000000000002*bus3 + 15.187500000000002*bus4 + 5.4*bus5 + 5.130000000000001*bus6 + 8.100000000000001*bus7 + 13.354*bus8 + 0.0\n",
            "SUBJECT TO\n",
            "stop0: 18 bus0 + 25 bus1 + 40 bus2 + 40 bus3 + 40 bus4 + 18 bus5 + 18 bus6\n",
            " + 25 bus7 + 40 bus8 >= 10504\n",
            "\n",
            "stop1: 25 bus7 + 40 bus8 >= 391\n",
            "\n",
            "stop2: 18 bus0 + 25 bus1 + 40 bus2 + 40 bus4 >= 331\n",
            "\n",
            "stop3: 18 bus0 + 25 bus1 + 40 bus2 + 40 bus3 >= 647\n",
            "\n",
            "stop4: 18 bus0 + 25 bus1 + 40 bus2 >= 973\n",
            "\n",
            "stop5: 18 bus0 >= 1295\n",
            "\n",
            "stop6: 18 bus0 >= 1622\n",
            "\n",
            "stop7: 18 bus0 >= 2002\n",
            "\n",
            "stop8: 18 bus0 + 40 bus8 >= 2745\n",
            "\n",
            "stop9: 40 bus3 + 40 bus4 >= 995\n",
            "\n",
            "stop10: 18 bus5 + 18 bus6 >= 242\n",
            "\n",
            "stop11: 40 bus8 >= 914\n",
            "\n",
            "stop12: 25 bus1 + 40 bus2 >= 1150\n",
            "\n",
            "stop13: 40 bus4 >= 924\n",
            "\n",
            "stop14: 18 bus6 >= 488\n",
            "\n",
            "stop15: 25 bus7 >= 641\n",
            "\n",
            "stop16: 40 bus8 >= 1170\n",
            "\n",
            "stop17: 25 bus7 >= 891\n",
            "\n",
            "stop18: 40 bus8 >= 1408\n",
            "\n",
            "stop19: 25 bus1 >= 1361\n",
            "\n",
            "stop20: 40 bus2 >= 1315\n",
            "\n",
            "stop21: 40 bus3 >= 1431\n",
            "\n",
            "stop22: 40 bus3 >= 1166\n",
            "\n",
            "stop23: 40 bus3 + 40 bus4 >= 1469\n",
            "\n",
            "stop24: 18 bus5 + 18 bus6 >= 699\n",
            "\n",
            "stop25: 25 bus7 >= 1100\n",
            "\n",
            "stop26: 25 bus1 >= 1657\n",
            "\n",
            "stop27: 40 bus2 + 40 bus3 >= 2642\n",
            "\n",
            "stop28: 40 bus4 >= 1741\n",
            "\n",
            "stop29: 40 bus4 >= 1505\n",
            "\n",
            "stop30: 40 bus4 >= 1237\n",
            "\n",
            "stop31: 18 bus5 + 18 bus6 >= 840\n",
            "\n",
            "stop32: 25 bus7 + 40 bus8 >= 2229\n",
            "\n",
            "stop33: 40 bus2 + 40 bus3 >= 2876\n",
            "\n",
            "stop34: 40 bus2 + 40 bus4 >= 3054\n",
            "\n",
            "stop35: 18 bus5 >= 670\n",
            "\n",
            "stop36: 25 bus7 >= 1289\n",
            "\n",
            "stop37: 40 bus8 >= 1615\n",
            "\n",
            "stop38: 25 bus1 >= 1769\n",
            "\n",
            "stop39: 40 bus3 >= 1893\n",
            "\n",
            "stop40: 40 bus2 >= 1826\n",
            "\n",
            "stop41: 40 bus4 >= 1972\n",
            "\n",
            "stop42: 18 bus5 >= 746\n",
            "\n",
            "stop43: 18 bus6 >= 890\n",
            "\n",
            "stop44: 25 bus1 + 40 bus3 >= 3470\n",
            "\n",
            "stop45: 25 bus1 + 40 bus3 >= 3588\n",
            "\n",
            "stop46: 40 bus2 + 40 bus4 >= 3499\n",
            "\n",
            "stop47: 18 bus5 >= 852\n",
            "\n",
            "stop48: 18 bus5 >= 997\n",
            "\n",
            "stop49: 40 bus8 >= 1704\n",
            "\n",
            "stop50: 18 bus6 >= 1245\n",
            "\n",
            "stop51: 25 bus7 + 40 bus8 >= 2796\n",
            "\n",
            "stop52: 18 bus6 + 25 bus7 + 40 bus8 >= 4342\n",
            "\n",
            "VARIABLES\n",
            "0 <= bus0 Integer\n",
            "0 <= bus1 Integer\n",
            "0 <= bus2 Integer\n",
            "0 <= bus3 Integer\n",
            "0 <= bus4 Integer\n",
            "0 <= bus5 Integer\n",
            "0 <= bus6 Integer\n",
            "0 <= bus7 Integer\n",
            "0 <= bus8 Integer\n",
            "\n"
          ]
        }
      ]
    },
    {
      "cell_type": "code",
      "source": [
        "print(\"status : \", Lp_carbon.status, LpStatus[Lp_carbon.status])\n",
        "print(\"objective : \", Lp_carbon.objective.value())\n",
        "for var in Lp_carbon.variables():\n",
        "    print(var.name,\": \", var.value())"
      ],
      "metadata": {
        "id": "xO-AF-wPK2qa",
        "colab": {
          "base_uri": "https://localhost:8080/"
        },
        "outputId": "e503bc92-51b7-447c-91af-a936397709e4"
      },
      "execution_count": null,
      "outputs": [
        {
          "output_type": "stream",
          "name": "stdout",
          "text": [
            "status :  1 Optimal\n",
            "objective :  4946.602\n",
            "bus0 :  112.0\n",
            "bus1 :  71.0\n",
            "bus2 :  46.0\n",
            "bus3 :  48.0\n",
            "bus4 :  50.0\n",
            "bus5 :  56.0\n",
            "bus6 :  74.0\n",
            "bus7 :  52.0\n",
            "bus8 :  43.0\n"
          ]
        }
      ]
    },
    {
      "cell_type": "markdown",
      "source": [
        "Dual Problem"
      ],
      "metadata": {
        "id": "ZjYo07ZrdDrx"
      }
    },
    {
      "cell_type": "code",
      "source": [
        "Lp_dual = pulp.LpProblem(name=\"dual\", sense=LpMaximize)"
      ],
      "metadata": {
        "id": "MvwKGbaTeS-e"
      },
      "execution_count": null,
      "outputs": []
    },
    {
      "cell_type": "code",
      "source": [
        "y = []\n",
        "for i in range(53):\n",
        "    y.append(pulp.LpVariable(name=stop[i], lowBound=0))"
      ],
      "metadata": {
        "id": "ZNJQ7184ea0W"
      },
      "execution_count": null,
      "outputs": []
    },
    {
      "cell_type": "code",
      "source": [
        "ans = 0\n",
        "for i in range(53):\n",
        "    ans += sp[i]*y[i]\n",
        "Lp_dual += ans"
      ],
      "metadata": {
        "id": "BLXIEDjDe_aB"
      },
      "execution_count": null,
      "outputs": []
    },
    {
      "cell_type": "code",
      "source": [
        "import numpy as np \n",
        "Mx = np.arange(53*9).reshape((53,9))\n",
        "for i in range(53):\n",
        "    for j in range(9):\n",
        "        Mx[i][j] = 0\n",
        "        for k in range(len(edges[j])):\n",
        "            if (edges[j][k] == i):\n",
        "                Mx[i][j] = capacities[j]\n",
        "Mx_transpose = Mx.transpose()\n",
        "for i in range(9):\n",
        "    ans = 0\n",
        "    for j in range(53):\n",
        "        ans += Mx_transpose[i][j]*y[j]\n",
        "    Lp_dual += (ans<=costs[i],bus[i])"
      ],
      "metadata": {
        "id": "kNHU-d8odCoQ"
      },
      "execution_count": null,
      "outputs": []
    },
    {
      "cell_type": "code",
      "source": [
        "status = Lp_dual.solve()"
      ],
      "metadata": {
        "id": "uDsbp72GfWqp"
      },
      "execution_count": null,
      "outputs": []
    },
    {
      "cell_type": "code",
      "source": [
        "\n",
        "print(Lp_dual)"
      ],
      "metadata": {
        "colab": {
          "base_uri": "https://localhost:8080/"
        },
        "id": "16WfvElxiSX5",
        "outputId": "9e36930c-1675-4487-9a26-12b8fc95e697"
      },
      "execution_count": null,
      "outputs": [
        {
          "output_type": "stream",
          "name": "stdout",
          "text": [
            "dual:\n",
            "MAXIMIZE\n",
            "10504*stop0 + 391*stop1 + 242*stop10 + 914*stop11 + 1150*stop12 + 924*stop13 + 488*stop14 + 641*stop15 + 1170*stop16 + 891*stop17 + 1408*stop18 + 1361*stop19 + 331*stop2 + 1315*stop20 + 1431*stop21 + 1166*stop22 + 1469*stop23 + 699*stop24 + 1100*stop25 + 1657*stop26 + 2642*stop27 + 1741*stop28 + 1505*stop29 + 647*stop3 + 1237*stop30 + 840*stop31 + 2229*stop32 + 2876*stop33 + 3054*stop34 + 670*stop35 + 1289*stop36 + 1615*stop37 + 1769*stop38 + 1893*stop39 + 973*stop4 + 1826*stop40 + 1972*stop41 + 746*stop42 + 890*stop43 + 3470*stop44 + 3588*stop45 + 3499*stop46 + 852*stop47 + 997*stop48 + 1704*stop49 + 1295*stop5 + 1245*stop50 + 2796*stop51 + 4342*stop52 + 1622*stop6 + 2002*stop7 + 2745*stop8 + 995*stop9 + 0\n",
            "SUBJECT TO\n",
            "bus0: 18 stop0 + 18 stop2 + 18 stop3 + 18 stop4 + 18 stop5 + 18 stop6\n",
            " + 18 stop7 + 18 stop8 <= 3.24\n",
            "\n",
            "bus1: 25 stop0 + 25 stop12 + 25 stop19 + 25 stop2 + 25 stop26 + 25 stop3\n",
            " + 25 stop38 + 25 stop4 + 25 stop44 + 25 stop45 <= 9.72\n",
            "\n",
            "bus2: 40 stop0 + 40 stop12 + 40 stop2 + 40 stop20 + 40 stop27 + 40 stop3\n",
            " + 40 stop33 + 40 stop34 + 40 stop4 + 40 stop40 + 40 stop46 <= 15.1875\n",
            "\n",
            "bus3: 40 stop0 + 40 stop21 + 40 stop22 + 40 stop23 + 40 stop27 + 40 stop3\n",
            " + 40 stop33 + 40 stop39 + 40 stop44 + 40 stop45 + 40 stop9 <= 15.795\n",
            "\n",
            "bus4: 40 stop0 + 40 stop13 + 40 stop2 + 40 stop23 + 40 stop28 + 40 stop29\n",
            " + 40 stop30 + 40 stop34 + 40 stop41 + 40 stop46 + 40 stop9 <= 15.1875\n",
            "\n",
            "bus5: 18 stop0 + 18 stop10 + 18 stop24 + 18 stop31 + 18 stop35 + 18 stop42\n",
            " + 18 stop47 + 18 stop48 <= 5.4\n",
            "\n",
            "bus6: 18 stop0 + 18 stop10 + 18 stop14 + 18 stop24 + 18 stop31 + 18 stop43\n",
            " + 18 stop50 + 18 stop52 <= 5.13\n",
            "\n",
            "bus7: 25 stop0 + 25 stop1 + 25 stop15 + 25 stop17 + 25 stop25 + 25 stop32\n",
            " + 25 stop36 + 25 stop51 + 25 stop52 <= 8.1\n",
            "\n",
            "bus8: 40 stop0 + 40 stop1 + 40 stop11 + 40 stop16 + 40 stop18 + 40 stop32\n",
            " + 40 stop37 + 40 stop49 + 40 stop51 + 40 stop52 + 40 stop8 <= 13.354\n",
            "\n",
            "VARIABLES\n",
            "stop0 Continuous\n",
            "stop1 Continuous\n",
            "stop10 Continuous\n",
            "stop11 Continuous\n",
            "stop12 Continuous\n",
            "stop13 Continuous\n",
            "stop14 Continuous\n",
            "stop15 Continuous\n",
            "stop16 Continuous\n",
            "stop17 Continuous\n",
            "stop18 Continuous\n",
            "stop19 Continuous\n",
            "stop2 Continuous\n",
            "stop20 Continuous\n",
            "stop21 Continuous\n",
            "stop22 Continuous\n",
            "stop23 Continuous\n",
            "stop24 Continuous\n",
            "stop25 Continuous\n",
            "stop26 Continuous\n",
            "stop27 Continuous\n",
            "stop28 Continuous\n",
            "stop29 Continuous\n",
            "stop3 Continuous\n",
            "stop30 Continuous\n",
            "stop31 Continuous\n",
            "stop32 Continuous\n",
            "stop33 Continuous\n",
            "stop34 Continuous\n",
            "stop35 Continuous\n",
            "stop36 Continuous\n",
            "stop37 Continuous\n",
            "stop38 Continuous\n",
            "stop39 Continuous\n",
            "stop4 Continuous\n",
            "stop40 Continuous\n",
            "stop41 Continuous\n",
            "stop42 Continuous\n",
            "stop43 Continuous\n",
            "stop44 Continuous\n",
            "stop45 Continuous\n",
            "stop46 Continuous\n",
            "stop47 Continuous\n",
            "stop48 Continuous\n",
            "stop49 Continuous\n",
            "stop5 Continuous\n",
            "stop50 Continuous\n",
            "stop51 Continuous\n",
            "stop52 Continuous\n",
            "stop6 Continuous\n",
            "stop7 Continuous\n",
            "stop8 Continuous\n",
            "stop9 Continuous\n",
            "\n"
          ]
        }
      ]
    },
    {
      "cell_type": "code",
      "source": [
        "print(\"status : \", Lp_dual.status, LpStatus[Lp_dual.status])\n",
        "print(\"objective : \", Lp_dual.objective.value())\n",
        "for var in Lp_dual.variables():\n",
        "    print(var.name,\": \", var.value())"
      ],
      "metadata": {
        "colab": {
          "base_uri": "https://localhost:8080/"
        },
        "id": "464VCXh-huO1",
        "outputId": "8ac51124-611c-4766-ccbb-465a04b7ce4b"
      },
      "execution_count": null,
      "outputs": [
        {
          "output_type": "stream",
          "name": "stdout",
          "text": [
            "status :  1 Optimal\n",
            "objective :  4907.7801\n",
            "stop0 :  0.0\n",
            "stop1 :  0.0\n",
            "stop10 :  0.0\n",
            "stop11 :  0.0\n",
            "stop12 :  0.0\n",
            "stop13 :  0.0\n",
            "stop14 :  0.0\n",
            "stop15 :  0.0\n",
            "stop16 :  0.0\n",
            "stop17 :  0.0\n",
            "stop18 :  0.0\n",
            "stop19 :  0.0\n",
            "stop2 :  0.0\n",
            "stop20 :  0.0\n",
            "stop21 :  0.0\n",
            "stop22 :  0.0\n",
            "stop23 :  0.0\n",
            "stop24 :  0.0\n",
            "stop25 :  0.0\n",
            "stop26 :  0.0\n",
            "stop27 :  0.0\n",
            "stop28 :  0.0\n",
            "stop29 :  0.0\n",
            "stop3 :  0.0\n",
            "stop30 :  0.0\n",
            "stop31 :  0.0\n",
            "stop32 :  0.0\n",
            "stop33 :  0.0\n",
            "stop34 :  0.0\n",
            "stop35 :  0.0\n",
            "stop36 :  0.039\n",
            "stop37 :  0.0\n",
            "stop38 :  0.3888\n",
            "stop39 :  0.394875\n",
            "stop4 :  0.0\n",
            "stop40 :  0.3796875\n",
            "stop41 :  0.3796875\n",
            "stop42 :  0.0\n",
            "stop43 :  0.0\n",
            "stop44 :  0.0\n",
            "stop45 :  0.0\n",
            "stop46 :  0.0\n",
            "stop47 :  0.0\n",
            "stop48 :  0.3\n",
            "stop49 :  0.04885\n",
            "stop5 :  0.0\n",
            "stop50 :  0.0\n",
            "stop51 :  0.0\n",
            "stop52 :  0.285\n",
            "stop6 :  0.0\n",
            "stop7 :  0.18\n",
            "stop8 :  0.0\n",
            "stop9 :  0.0\n"
          ]
        }
      ]
    }
  ]
}